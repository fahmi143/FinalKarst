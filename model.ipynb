{
  "nbformat": 4,
  "nbformat_minor": 0,
  "metadata": {
    "colab": {
      "provenance": [],
      "authorship_tag": "ABX9TyMEpG30HQhXp44iLznkLGbi",
      "include_colab_link": true
    },
    "kernelspec": {
      "name": "python3",
      "display_name": "Python 3"
    },
    "language_info": {
      "name": "python"
    }
  },
  "cells": [
    {
      "cell_type": "markdown",
      "metadata": {
        "id": "view-in-github",
        "colab_type": "text"
      },
      "source": [
        "<a href=\"https://colab.research.google.com/github/fahmi143/FinalKarst/blob/main/model.ipynb\" target=\"_parent\"><img src=\"https://colab.research.google.com/assets/colab-badge.svg\" alt=\"Open In Colab\"/></a>"
      ]
    },
    {
      "cell_type": "code",
      "execution_count": 2,
      "metadata": {
        "id": "gtIzEQ_vBucF"
      },
      "outputs": [],
      "source": [
        "from __future__ import absolute_import, division, print_function, unicode_literals\n",
        "\n",
        "import tensorflow as tf\n",
        "\n",
        "from tensorflow.keras.models import Model\n",
        "from tensorflow.keras.layers import (\n",
        "    Input, concatenate, Conv2D, MaxPooling2D, UpSampling2D, Activation,\n",
        "    Reshape, BatchNormalization, Flatten, Dense, Dropout, Conv2DTranspose, ZeroPadding2D)\n",
        "import os\n",
        "\n",
        "def conv_block(tensor, nfilters, size=3, padding='same', initializer=\"he_normal\"):\n",
        "    x = Conv2D(filters=nfilters, kernel_size=(size, size), padding=padding, kernel_initializer=initializer)(tensor)\n",
        "    x = BatchNormalization()(x)\n",
        "    x = Activation(\"relu\")(x)\n",
        "    x = Conv2D(filters=nfilters, kernel_size=(size, size), padding=padding, kernel_initializer=initializer)(x)\n",
        "    x = BatchNormalization()(x)\n",
        "    x = Activation(\"relu\")(x)\n",
        "    return x\n",
        "\n",
        "\n",
        "def deconv_block(tensor, residual, nfilters, size=3, padding='same', strides=(2, 2)):\n",
        "    y = Conv2DTranspose(nfilters, kernel_size=(size, size), strides=strides, padding=padding)(tensor)\n",
        "    y = concatenate([y, residual], axis=3)\n",
        "    y = conv_block(y, nfilters)\n",
        "    return y\n",
        "\n",
        "\n",
        "def make_KaI(img_height, img_width, nclasses=2, filters=64, one_hot = 2, deep = True, zero_pad = 0, channels = 3):\n",
        "# down\n",
        "    if zero_pad!=0:\n",
        "        input_layer = Input(shape=(img_height, img_width, channels), name='image_input')\n",
        "        input_layer_pad = ZeroPadding2D(((int(zero_pad/2), int(zero_pad/2)), (int(zero_pad/2),int(zero_pad/2))))(input_layer)\n",
        "        conv1 = conv_block(input_layer_pad, nfilters=filters)\n",
        "        conv1_out = MaxPooling2D(pool_size=(2, 2))(conv1)\n",
        "        conv2 = conv_block(conv1_out, nfilters=filters*2)\n",
        "        conv2_out = MaxPooling2D(pool_size=(2, 2))(conv2)\n",
        "        conv3 = conv_block(conv2_out, nfilters=filters*4)\n",
        "        conv3_out = MaxPooling2D(pool_size=(2, 2))(conv3)\n",
        "    else:\n",
        "        input_layer = Input(shape=(img_height, img_width, channels), name='image_input')\n",
        "        conv1 = conv_block(input_layer, nfilters=filters)\n",
        "        conv1_out = MaxPooling2D(pool_size=(2, 2))(conv1)\n",
        "        conv2 = conv_block(conv1_out, nfilters=filters*2)\n",
        "        conv2_out = MaxPooling2D(pool_size=(2, 2))(conv2)\n",
        "        conv3 = conv_block(conv2_out, nfilters=filters*4)\n",
        "        conv3_out = MaxPooling2D(pool_size=(2, 2))(conv3)\n",
        "\n",
        "    if deep==True:\n",
        "        conv4 = conv_block(conv3_out, nfilters=filters*8)\n",
        "    #conv4_out = MaxPooling2D(pool_size=(2, 2))(conv4)\n",
        "    #conv4_out = Dropout(0.5)(conv4_out)\n",
        "    #conv5 = conv_block(conv4_out, nfilters=filters*16)\n",
        "    #conv5 = Dropout(0.5)(conv5)\n",
        "# up\n",
        "    #deconv6 = deconv_block(conv5, residual=conv4, nfilters=filters*8)\n",
        "    #deconv6 = Dropout(0.5)(deconv6)\n",
        "        deconv7 = deconv_block(conv4, residual=conv3, nfilters=filters*4)\n",
        "        deconv7 = Dropout(0.5)(deconv7)\n",
        "        deconv8 = deconv_block(deconv7, residual=conv2, nfilters=filters*2)\n",
        "        deconv9 = deconv_block(deconv8, residual=conv1, nfilters=filters)\n",
        "    else:\n",
        "        deconv8 = deconv_block(conv3, residual=conv2, nfilters=filters*2)\n",
        "        deconv9 = deconv_block(deconv8, residual=conv1, nfilters=filters)\n",
        "# output\n",
        "    if zero_pad!=0:\n",
        "        deconv9 = tf.image.resize_with_crop_or_pad(deconv9, 100, 100)\n",
        "        output_layer = Conv2D(filters=one_hot, kernel_size=(1, 1))(deconv9)\n",
        "        output_layer = BatchNormalization()(output_layer)\n",
        "        output_layer = Activation('sigmoid')(output_layer)\n",
        "    else:\n",
        "        output_layer = Conv2D(filters=one_hot, kernel_size=(1, 1))(deconv9)\n",
        "        output_layer = BatchNormalization()(output_layer)\n",
        "        output_layer = Activation('sigmoid')(output_layer)\n",
        "\n",
        "    model = Model(inputs=input_layer, outputs=output_layer, name='Unet')\n",
        "    return model"
      ]
    }
  ]
}